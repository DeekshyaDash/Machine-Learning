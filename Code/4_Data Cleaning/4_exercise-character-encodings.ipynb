{
 "cells": [
  {
   "cell_type": "markdown",
   "metadata": {
    "papermill": {
     "duration": 0.015244,
     "end_time": "2020-11-12T20:23:01.214601",
     "exception": false,
     "start_time": "2020-11-12T20:23:01.199357",
     "status": "completed"
    },
    "tags": []
   },
   "source": [
    "**This notebook is an exercise in the [Data Cleaning](https://www.kaggle.com/learn/data-cleaning) course.  You can reference the tutorial at [this link](https://www.kaggle.com/alexisbcook/character-encodings).**\n",
    "\n",
    "---\n"
   ]
  },
  {
   "cell_type": "markdown",
   "metadata": {
    "papermill": {
     "duration": 0.013759,
     "end_time": "2020-11-12T20:23:01.242657",
     "exception": false,
     "start_time": "2020-11-12T20:23:01.228898",
     "status": "completed"
    },
    "tags": []
   },
   "source": [
    "In this exercise, you'll apply what you learned in the **Character encodings** tutorial.\n",
    "\n",
    "# Setup\n",
    "\n",
    "The questions below will give you feedback on your work. Run the following cell to set up the feedback system."
   ]
  },
  {
   "cell_type": "code",
   "execution_count": 1,
   "metadata": {
    "execution": {
     "iopub.execute_input": "2020-11-12T20:23:01.277345Z",
     "iopub.status.busy": "2020-11-12T20:23:01.276541Z",
     "iopub.status.idle": "2020-11-12T20:23:01.350757Z",
     "shell.execute_reply": "2020-11-12T20:23:01.351606Z"
    },
    "papermill": {
     "duration": 0.094908,
     "end_time": "2020-11-12T20:23:01.351950",
     "exception": false,
     "start_time": "2020-11-12T20:23:01.257042",
     "status": "completed"
    },
    "tags": []
   },
   "outputs": [
    {
     "name": "stdout",
     "output_type": "stream",
     "text": [
      "Setup Complete\n"
     ]
    }
   ],
   "source": [
    "from learntools.core import binder\n",
    "binder.bind(globals())\n",
    "from learntools.data_cleaning.ex4 import *\n",
    "print(\"Setup Complete\")"
   ]
  },
  {
   "cell_type": "markdown",
   "metadata": {
    "papermill": {
     "duration": 0.014129,
     "end_time": "2020-11-12T20:23:01.382093",
     "exception": false,
     "start_time": "2020-11-12T20:23:01.367964",
     "status": "completed"
    },
    "tags": []
   },
   "source": [
    "# Get our environment set up\n",
    "\n",
    "The first thing we'll need to do is load in the libraries we'll be using."
   ]
  },
  {
   "cell_type": "code",
   "execution_count": 2,
   "metadata": {
    "execution": {
     "iopub.execute_input": "2020-11-12T20:23:01.417525Z",
     "iopub.status.busy": "2020-11-12T20:23:01.416591Z",
     "iopub.status.idle": "2020-11-12T20:23:01.419053Z",
     "shell.execute_reply": "2020-11-12T20:23:01.419572Z"
    },
    "papermill": {
     "duration": 0.023107,
     "end_time": "2020-11-12T20:23:01.419730",
     "exception": false,
     "start_time": "2020-11-12T20:23:01.396623",
     "status": "completed"
    },
    "tags": []
   },
   "outputs": [],
   "source": [
    "# modules we'll use\n",
    "import pandas as pd\n",
    "import numpy as np\n",
    "\n",
    "# helpful character encoding module\n",
    "import chardet\n",
    "\n",
    "# set seed for reproducibility\n",
    "np.random.seed(0)"
   ]
  },
  {
   "cell_type": "markdown",
   "metadata": {
    "papermill": {
     "duration": 0.014388,
     "end_time": "2020-11-12T20:23:01.450701",
     "exception": false,
     "start_time": "2020-11-12T20:23:01.436313",
     "status": "completed"
    },
    "tags": []
   },
   "source": [
    "# 1) What are encodings?\n",
    "\n",
    "You're working with a dataset composed of bytes.  Run the code cell below to print a sample entry."
   ]
  },
  {
   "cell_type": "code",
   "execution_count": 3,
   "metadata": {
    "execution": {
     "iopub.execute_input": "2020-11-12T20:23:01.486978Z",
     "iopub.status.busy": "2020-11-12T20:23:01.486111Z",
     "iopub.status.idle": "2020-11-12T20:23:01.489793Z",
     "shell.execute_reply": "2020-11-12T20:23:01.489210Z"
    },
    "papermill": {
     "duration": 0.024108,
     "end_time": "2020-11-12T20:23:01.489947",
     "exception": false,
     "start_time": "2020-11-12T20:23:01.465839",
     "status": "completed"
    },
    "tags": []
   },
   "outputs": [
    {
     "name": "stdout",
     "output_type": "stream",
     "text": [
      "b'\\xa7A\\xa6n'\n",
      "data type: <class 'bytes'>\n"
     ]
    }
   ],
   "source": [
    "sample_entry = b'\\xa7A\\xa6n'\n",
    "print(sample_entry)\n",
    "print('data type:', type(sample_entry))"
   ]
  },
  {
   "cell_type": "markdown",
   "metadata": {
    "papermill": {
     "duration": 0.014998,
     "end_time": "2020-11-12T20:23:01.520299",
     "exception": false,
     "start_time": "2020-11-12T20:23:01.505301",
     "status": "completed"
    },
    "tags": []
   },
   "source": [
    "You notice that it doesn't use the standard UTF-8 encoding. \n",
    "\n",
    "Use the next code cell to create a variable `new_entry` that changes the encoding from `\"big5-tw\"` to `\"utf-8\"`.  `new_entry` should have the bytes datatype."
   ]
  },
  {
   "cell_type": "code",
   "execution_count": 4,
   "metadata": {
    "execution": {
     "iopub.execute_input": "2020-11-12T20:23:01.559714Z",
     "iopub.status.busy": "2020-11-12T20:23:01.558712Z",
     "iopub.status.idle": "2020-11-12T20:23:01.564149Z",
     "shell.execute_reply": "2020-11-12T20:23:01.564723Z"
    },
    "papermill": {
     "duration": 0.029226,
     "end_time": "2020-11-12T20:23:01.564892",
     "exception": false,
     "start_time": "2020-11-12T20:23:01.535666",
     "status": "completed"
    },
    "tags": []
   },
   "outputs": [
    {
     "data": {
      "application/javascript": [
       "parent.postMessage({\"jupyterEvent\": \"custom.exercise_interaction\", \"data\": {\"outcomeType\": 1, \"valueTowardsCompletion\": 0.3333333333333333, \"interactionType\": 1, \"questionType\": 1, \"questionId\": \"1_EncodingsIntro\", \"learnToolsVersion\": \"0.3.4\", \"failureMessage\": \"\", \"exceptionClass\": \"\", \"trace\": \"\"}}, \"*\")"
      ],
      "text/plain": [
       "<IPython.core.display.Javascript object>"
      ]
     },
     "metadata": {},
     "output_type": "display_data"
    },
    {
     "data": {
      "text/markdown": [
       "<span style=\"color:#33cc33\">Correct</span>"
      ],
      "text/plain": [
       "Correct"
      ]
     },
     "metadata": {},
     "output_type": "display_data"
    }
   ],
   "source": [
    "entry = sample_entry.decode(\"big5-tw\")\n",
    "new_entry = entry.encode(\"utf-8\")\n",
    "\n",
    "# Check your answer\n",
    "q1.check()"
   ]
  },
  {
   "cell_type": "code",
   "execution_count": 5,
   "metadata": {
    "execution": {
     "iopub.execute_input": "2020-11-12T20:23:01.603703Z",
     "iopub.status.busy": "2020-11-12T20:23:01.602966Z",
     "iopub.status.idle": "2020-11-12T20:23:01.606095Z",
     "shell.execute_reply": "2020-11-12T20:23:01.605452Z"
    },
    "papermill": {
     "duration": 0.024364,
     "end_time": "2020-11-12T20:23:01.606222",
     "exception": false,
     "start_time": "2020-11-12T20:23:01.581858",
     "status": "completed"
    },
    "tags": []
   },
   "outputs": [],
   "source": [
    "# Lines below will give you a hint or solution code\n",
    "#q1.hint()\n",
    "#q1.solution()"
   ]
  },
  {
   "cell_type": "markdown",
   "metadata": {
    "papermill": {
     "duration": 0.01679,
     "end_time": "2020-11-12T20:23:01.640447",
     "exception": false,
     "start_time": "2020-11-12T20:23:01.623657",
     "status": "completed"
    },
    "tags": []
   },
   "source": [
    "# 2) Reading in files with encoding problems\n",
    "\n",
    "Use the code cell below to read in this file at path `\"../input/fatal-police-shootings-in-the-us/PoliceKillingsUS.csv\"`.  \n",
    "\n",
    "Figure out what the correct encoding should be and read in the file to a DataFrame `police_killings`."
   ]
  },
  {
   "cell_type": "code",
   "execution_count": 6,
   "metadata": {
    "execution": {
     "iopub.execute_input": "2020-11-12T20:23:01.680395Z",
     "iopub.status.busy": "2020-11-12T20:23:01.679628Z",
     "iopub.status.idle": "2020-11-12T20:23:01.702692Z",
     "shell.execute_reply": "2020-11-12T20:23:01.702088Z"
    },
    "papermill": {
     "duration": 0.044816,
     "end_time": "2020-11-12T20:23:01.702807",
     "exception": false,
     "start_time": "2020-11-12T20:23:01.657991",
     "status": "completed"
    },
    "tags": []
   },
   "outputs": [
    {
     "data": {
      "application/javascript": [
       "parent.postMessage({\"jupyterEvent\": \"custom.exercise_interaction\", \"data\": {\"outcomeType\": 1, \"valueTowardsCompletion\": 0.3333333333333333, \"interactionType\": 1, \"questionType\": 1, \"questionId\": \"2_ReadIn\", \"learnToolsVersion\": \"0.3.4\", \"failureMessage\": \"\", \"exceptionClass\": \"\", \"trace\": \"\"}}, \"*\")"
      ],
      "text/plain": [
       "<IPython.core.display.Javascript object>"
      ]
     },
     "metadata": {},
     "output_type": "display_data"
    },
    {
     "data": {
      "text/markdown": [
       "<span style=\"color:#33cc33\">Correct</span>"
      ],
      "text/plain": [
       "Correct"
      ]
     },
     "metadata": {},
     "output_type": "display_data"
    }
   ],
   "source": [
    "# TODO: Load in the DataFrame correctly.\n",
    "police_killings = pd.read_csv('../input/fatal-police-shootings-in-the-us/PoliceKillingsUS.csv', encoding='latin')\n",
    " \n",
    "\n",
    "# Check your answer\n",
    "q2.check()"
   ]
  },
  {
   "cell_type": "markdown",
   "metadata": {
    "papermill": {
     "duration": 0.018131,
     "end_time": "2020-11-12T20:23:01.739427",
     "exception": false,
     "start_time": "2020-11-12T20:23:01.721296",
     "status": "completed"
    },
    "tags": []
   },
   "source": [
    "Feel free to use any additional code cells for supplemental work.  To get credit for finishing this question, you'll need to run `q2.check()` and get a result of **Correct**."
   ]
  },
  {
   "cell_type": "code",
   "execution_count": 7,
   "metadata": {
    "execution": {
     "iopub.execute_input": "2020-11-12T20:23:01.780865Z",
     "iopub.status.busy": "2020-11-12T20:23:01.780158Z",
     "iopub.status.idle": "2020-11-12T20:23:01.783185Z",
     "shell.execute_reply": "2020-11-12T20:23:01.782494Z"
    },
    "papermill": {
     "duration": 0.025389,
     "end_time": "2020-11-12T20:23:01.783302",
     "exception": false,
     "start_time": "2020-11-12T20:23:01.757913",
     "status": "completed"
    },
    "tags": []
   },
   "outputs": [],
   "source": [
    "# (Optional) Use this code cell for any additional work."
   ]
  },
  {
   "cell_type": "code",
   "execution_count": 8,
   "metadata": {
    "execution": {
     "iopub.execute_input": "2020-11-12T20:23:01.825994Z",
     "iopub.status.busy": "2020-11-12T20:23:01.825158Z",
     "iopub.status.idle": "2020-11-12T20:23:01.831024Z",
     "shell.execute_reply": "2020-11-12T20:23:01.830381Z"
    },
    "papermill": {
     "duration": 0.029326,
     "end_time": "2020-11-12T20:23:01.831148",
     "exception": false,
     "start_time": "2020-11-12T20:23:01.801822",
     "status": "completed"
    },
    "tags": []
   },
   "outputs": [
    {
     "data": {
      "application/javascript": [
       "parent.postMessage({\"jupyterEvent\": \"custom.exercise_interaction\", \"data\": {\"interactionType\": 3, \"questionType\": 1, \"questionId\": \"2_ReadIn\", \"learnToolsVersion\": \"0.3.4\", \"valueTowardsCompletion\": 0.0, \"failureMessage\": \"\", \"exceptionClass\": \"\", \"trace\": \"\", \"outcomeType\": 4}}, \"*\")"
      ],
      "text/plain": [
       "<IPython.core.display.Javascript object>"
      ]
     },
     "metadata": {},
     "output_type": "display_data"
    },
    {
     "data": {
      "text/markdown": [
       "<span style=\"color:#33cc99\">Solution:</span> \n",
       "```python\n",
       "police_killings = pd.read_csv(\"../input/fatal-police-shootings-in-the-us/PoliceKillingsUS.csv\", encoding='Windows-1252')\n",
       "\n",
       "```"
      ],
      "text/plain": [
       "Solution: \n",
       "```python\n",
       "police_killings = pd.read_csv(\"../input/fatal-police-shootings-in-the-us/PoliceKillingsUS.csv\", encoding='Windows-1252')\n",
       "\n",
       "```"
      ]
     },
     "metadata": {},
     "output_type": "display_data"
    }
   ],
   "source": [
    "# Lines below will give you a hint or solution code\n",
    "#q2.hint()\n",
    "q2.solution()"
   ]
  },
  {
   "cell_type": "markdown",
   "metadata": {
    "papermill": {
     "duration": 0.019471,
     "end_time": "2020-11-12T20:23:01.870844",
     "exception": false,
     "start_time": "2020-11-12T20:23:01.851373",
     "status": "completed"
    },
    "tags": []
   },
   "source": [
    "# 3) Saving your files with UTF-8 encoding\n",
    "\n",
    "Save a version of the police killings dataset to CSV with UTF-8 encoding.  Your answer will be marked correct after saving this file.  \n",
    "\n",
    "Note: When using the `to_csv()` method, supply only the name of the file (e.g., `\"my_file.csv\"`).  This saves the file at the filepath `\"/kaggle/working/my_file.csv\"`."
   ]
  },
  {
   "cell_type": "code",
   "execution_count": 9,
   "metadata": {
    "execution": {
     "iopub.execute_input": "2020-11-12T20:23:01.916156Z",
     "iopub.status.busy": "2020-11-12T20:23:01.915363Z",
     "iopub.status.idle": "2020-11-12T20:23:02.308629Z",
     "shell.execute_reply": "2020-11-12T20:23:02.309270Z"
    },
    "papermill": {
     "duration": 0.418458,
     "end_time": "2020-11-12T20:23:02.309457",
     "exception": false,
     "start_time": "2020-11-12T20:23:01.890999",
     "status": "completed"
    },
    "tags": []
   },
   "outputs": [
    {
     "data": {
      "application/javascript": [
       "parent.postMessage({\"jupyterEvent\": \"custom.exercise_interaction\", \"data\": {\"outcomeType\": 1, \"valueTowardsCompletion\": 0.3333333333333333, \"interactionType\": 1, \"questionType\": 2, \"questionId\": \"3_SaveCSV\", \"learnToolsVersion\": \"0.3.4\", \"failureMessage\": \"\", \"exceptionClass\": \"\", \"trace\": \"\"}}, \"*\")"
      ],
      "text/plain": [
       "<IPython.core.display.Javascript object>"
      ]
     },
     "metadata": {},
     "output_type": "display_data"
    },
    {
     "data": {
      "text/markdown": [
       "<span style=\"color:#33cc33\">Correct</span>"
      ],
      "text/plain": [
       "Correct"
      ]
     },
     "metadata": {},
     "output_type": "display_data"
    }
   ],
   "source": [
    "# TODO: Save the police killings dataset to CSV\n",
    "data = police_killings.to_csv(\"police_kills.csv\")\n",
    "\n",
    "# Check your answer\n",
    "q3.check()"
   ]
  },
  {
   "cell_type": "code",
   "execution_count": 10,
   "metadata": {
    "execution": {
     "iopub.execute_input": "2020-11-12T20:23:02.357362Z",
     "iopub.status.busy": "2020-11-12T20:23:02.356594Z",
     "iopub.status.idle": "2020-11-12T20:23:02.360081Z",
     "shell.execute_reply": "2020-11-12T20:23:02.359393Z"
    },
    "papermill": {
     "duration": 0.029086,
     "end_time": "2020-11-12T20:23:02.360196",
     "exception": false,
     "start_time": "2020-11-12T20:23:02.331110",
     "status": "completed"
    },
    "tags": []
   },
   "outputs": [],
   "source": [
    "# Lines below will give you a hint or solution code\n",
    "#q3.hint()\n",
    "#q3.solution()"
   ]
  },
  {
   "cell_type": "markdown",
   "metadata": {
    "papermill": {
     "duration": 0.021277,
     "end_time": "2020-11-12T20:23:02.403142",
     "exception": false,
     "start_time": "2020-11-12T20:23:02.381865",
     "status": "completed"
    },
    "tags": []
   },
   "source": [
    "# (Optional) More practice\n",
    "\n",
    "Check out [this dataset of files in different character encodings](https://www.kaggle.com/rtatman/character-encoding-examples). Can you read in all the files with their original encodings and them save them out as UTF-8 files?\n",
    "\n",
    "If you have a file that's in UTF-8 but has just a couple of weird-looking characters in it, you can try out the [ftfy module](https://ftfy.readthedocs.io/en/latest/#) and see if it helps. \n",
    "\n",
    "# Keep going\n",
    "\n",
    "In the final lesson, learn how to [**clean up inconsistent text entries**](https://www.kaggle.com/alexisbcook/inconsistent-data-entry) in your dataset."
   ]
  },
  {
   "cell_type": "markdown",
   "metadata": {
    "papermill": {
     "duration": 0.02102,
     "end_time": "2020-11-12T20:23:02.445606",
     "exception": false,
     "start_time": "2020-11-12T20:23:02.424586",
     "status": "completed"
    },
    "tags": []
   },
   "source": [
    "---\n",
    "\n",
    "\n",
    "\n",
    "\n",
    "*Have questions or comments? Visit the [Learn Discussion forum](https://www.kaggle.com/learn-forum/172650) to chat with other Learners.*"
   ]
  }
 ],
 "metadata": {
  "kernelspec": {
   "display_name": "Python 3",
   "language": "python",
   "name": "python3"
  },
  "language_info": {
   "codemirror_mode": {
    "name": "ipython",
    "version": 3
   },
   "file_extension": ".py",
   "mimetype": "text/x-python",
   "name": "python",
   "nbconvert_exporter": "python",
   "pygments_lexer": "ipython3",
   "version": "3.7.6"
  },
  "papermill": {
   "duration": 5.955545,
   "end_time": "2020-11-12T20:23:02.574571",
   "environment_variables": {},
   "exception": null,
   "input_path": "__notebook__.ipynb",
   "output_path": "__notebook__.ipynb",
   "parameters": {},
   "start_time": "2020-11-12T20:22:56.619026",
   "version": "2.1.0"
  }
 },
 "nbformat": 4,
 "nbformat_minor": 4
}
